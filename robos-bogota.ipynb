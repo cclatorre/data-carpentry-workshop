{
 "cells": [
  {
   "cell_type": "code",
   "execution_count": 1,
   "metadata": {},
   "outputs": [
    {
     "name": "stdout",
     "output_type": "stream",
     "text": [
      "Archive:  robo-personas-bogota-2018.csv.zip\n",
      "  inflating: robo-personas-bogota-2018.csv  \n"
     ]
    }
   ],
   "source": [
    "%%bash\n",
    "unzip robo-personas-bogota-2018.csv.zip"
   ]
  },
  {
   "cell_type": "code",
   "execution_count": 2,
   "metadata": {},
   "outputs": [],
   "source": [
    "import numpy as np\n",
    "import pandas as pd\n",
    "import matplotlib.pyplot as plt\n",
    "from collections import Counter\n",
    "%matplotlib inline"
   ]
  },
  {
   "cell_type": "code",
   "execution_count": 3,
   "metadata": {},
   "outputs": [],
   "source": [
    "df=pd.read_csv('robo-personas-bogota-2018.csv')"
   ]
  },
  {
   "cell_type": "code",
   "execution_count": 4,
   "metadata": {},
   "outputs": [
    {
     "data": {
      "text/html": [
       "<div>\n",
       "<style scoped>\n",
       "    .dataframe tbody tr th:only-of-type {\n",
       "        vertical-align: middle;\n",
       "    }\n",
       "\n",
       "    .dataframe tbody tr th {\n",
       "        vertical-align: top;\n",
       "    }\n",
       "\n",
       "    .dataframe thead th {\n",
       "        text-align: right;\n",
       "    }\n",
       "</style>\n",
       "<table border=\"1\" class=\"dataframe\">\n",
       "  <thead>\n",
       "    <tr style=\"text-align: right;\">\n",
       "      <th></th>\n",
       "      <th>Unnamed: 0</th>\n",
       "      <th>Fecha</th>\n",
       "      <th>Departamento</th>\n",
       "      <th>Municipio</th>\n",
       "      <th>Día</th>\n",
       "      <th>Hora</th>\n",
       "      <th>Barrio</th>\n",
       "      <th>Zona</th>\n",
       "      <th>Clase de sitio</th>\n",
       "      <th>Arma empleada</th>\n",
       "      <th>...</th>\n",
       "      <th>Móvil Victima</th>\n",
       "      <th>Edad</th>\n",
       "      <th>Sexo</th>\n",
       "      <th>Estado civil</th>\n",
       "      <th>País de nacimiento</th>\n",
       "      <th>Clase de empleado</th>\n",
       "      <th>Profesión</th>\n",
       "      <th>Escolaridad</th>\n",
       "      <th>Código DANE</th>\n",
       "      <th>Cantidad</th>\n",
       "    </tr>\n",
       "  </thead>\n",
       "  <tbody>\n",
       "    <tr>\n",
       "      <th>0</th>\n",
       "      <td>117</td>\n",
       "      <td>1/1/18</td>\n",
       "      <td>CUNDINAMARCA</td>\n",
       "      <td>BOGOTÁ D.C. (CT)</td>\n",
       "      <td>Lunes</td>\n",
       "      <td>0:00:00</td>\n",
       "      <td>BOLIVIA E-10</td>\n",
       "      <td>URBANA</td>\n",
       "      <td>VIAS PUBLICAS</td>\n",
       "      <td>ARMA BLANCA / CORTOPUNZANTE</td>\n",
       "      <td>...</td>\n",
       "      <td>A PIE</td>\n",
       "      <td>18</td>\n",
       "      <td>MASCULINO</td>\n",
       "      <td>SOLTERO</td>\n",
       "      <td>COLOMBIA</td>\n",
       "      <td>EMPLEADO PARTICULAR</td>\n",
       "      <td>-</td>\n",
       "      <td>PRIMARIA</td>\n",
       "      <td>11001000.0</td>\n",
       "      <td>1.0</td>\n",
       "    </tr>\n",
       "    <tr>\n",
       "      <th>1</th>\n",
       "      <td>118</td>\n",
       "      <td>1/1/18</td>\n",
       "      <td>CUNDINAMARCA</td>\n",
       "      <td>BOGOTÁ D.C. (CT)</td>\n",
       "      <td>Lunes</td>\n",
       "      <td>0:00:00</td>\n",
       "      <td>CIUDAD SALITRE II E-13</td>\n",
       "      <td>URBANA</td>\n",
       "      <td>VIAS PUBLICAS</td>\n",
       "      <td>CONTUNDENTES</td>\n",
       "      <td>...</td>\n",
       "      <td>A PIE</td>\n",
       "      <td>61</td>\n",
       "      <td>FEMENINO</td>\n",
       "      <td>SOLTERO</td>\n",
       "      <td>COLOMBIA</td>\n",
       "      <td>EMPLEADO PARTICULAR</td>\n",
       "      <td>NO REPORTADA</td>\n",
       "      <td>NO REPORTADO</td>\n",
       "      <td>11001000.0</td>\n",
       "      <td>1.0</td>\n",
       "    </tr>\n",
       "    <tr>\n",
       "      <th>2</th>\n",
       "      <td>119</td>\n",
       "      <td>1/1/18</td>\n",
       "      <td>CUNDINAMARCA</td>\n",
       "      <td>BOGOTÁ D.C. (CT)</td>\n",
       "      <td>Lunes</td>\n",
       "      <td>0:00:00</td>\n",
       "      <td>ESTACIÓN CENTRAL E-16</td>\n",
       "      <td>URBANA</td>\n",
       "      <td>CASAS DE HABITACION</td>\n",
       "      <td>ARMA BLANCA / CORTOPUNZANTE</td>\n",
       "      <td>...</td>\n",
       "      <td>A PIE</td>\n",
       "      <td>25</td>\n",
       "      <td>MASCULINO</td>\n",
       "      <td>SOLTERO</td>\n",
       "      <td>COLOMBIA</td>\n",
       "      <td>EMPLEADO PARTICULAR</td>\n",
       "      <td>-</td>\n",
       "      <td>SUPERIOR</td>\n",
       "      <td>11001000.0</td>\n",
       "      <td>1.0</td>\n",
       "    </tr>\n",
       "    <tr>\n",
       "      <th>3</th>\n",
       "      <td>120</td>\n",
       "      <td>1/1/18</td>\n",
       "      <td>CUNDINAMARCA</td>\n",
       "      <td>BOGOTÁ D.C. (CT)</td>\n",
       "      <td>Lunes</td>\n",
       "      <td>0:00:00</td>\n",
       "      <td>LA CABRERA E-2</td>\n",
       "      <td>URBANA</td>\n",
       "      <td>VIAS PUBLICAS</td>\n",
       "      <td>SIN EMPLEO DE ARMAS</td>\n",
       "      <td>...</td>\n",
       "      <td>A PIE</td>\n",
       "      <td>38</td>\n",
       "      <td>MASCULINO</td>\n",
       "      <td>SOLTERO</td>\n",
       "      <td>COLOMBIA</td>\n",
       "      <td>EMPLEADO PARTICULAR</td>\n",
       "      <td>-</td>\n",
       "      <td>PRIMARIA</td>\n",
       "      <td>11001000.0</td>\n",
       "      <td>1.0</td>\n",
       "    </tr>\n",
       "    <tr>\n",
       "      <th>4</th>\n",
       "      <td>121</td>\n",
       "      <td>1/1/18</td>\n",
       "      <td>CUNDINAMARCA</td>\n",
       "      <td>BOGOTÁ D.C. (CT)</td>\n",
       "      <td>Lunes</td>\n",
       "      <td>0:00:00</td>\n",
       "      <td>LA CHUCUA E-8</td>\n",
       "      <td>URBANA</td>\n",
       "      <td>VIAS PUBLICAS</td>\n",
       "      <td>SIN EMPLEO DE ARMAS</td>\n",
       "      <td>...</td>\n",
       "      <td>A PIE</td>\n",
       "      <td>33</td>\n",
       "      <td>MASCULINO</td>\n",
       "      <td>SOLTERO</td>\n",
       "      <td>COLOMBIA</td>\n",
       "      <td>EMPLEADO PARTICULAR</td>\n",
       "      <td>-</td>\n",
       "      <td>SECUNDARIA</td>\n",
       "      <td>11001000.0</td>\n",
       "      <td>1.0</td>\n",
       "    </tr>\n",
       "  </tbody>\n",
       "</table>\n",
       "<p>5 rows × 21 columns</p>\n",
       "</div>"
      ],
      "text/plain": [
       "   Unnamed: 0   Fecha  Departamento         Municipio    Día     Hora  \\\n",
       "0         117  1/1/18  CUNDINAMARCA  BOGOTÁ D.C. (CT)  Lunes  0:00:00   \n",
       "1         118  1/1/18  CUNDINAMARCA  BOGOTÁ D.C. (CT)  Lunes  0:00:00   \n",
       "2         119  1/1/18  CUNDINAMARCA  BOGOTÁ D.C. (CT)  Lunes  0:00:00   \n",
       "3         120  1/1/18  CUNDINAMARCA  BOGOTÁ D.C. (CT)  Lunes  0:00:00   \n",
       "4         121  1/1/18  CUNDINAMARCA  BOGOTÁ D.C. (CT)  Lunes  0:00:00   \n",
       "\n",
       "                   Barrio    Zona       Clase de sitio  \\\n",
       "0            BOLIVIA E-10  URBANA        VIAS PUBLICAS   \n",
       "1  CIUDAD SALITRE II E-13  URBANA        VIAS PUBLICAS   \n",
       "2   ESTACIÓN CENTRAL E-16  URBANA  CASAS DE HABITACION   \n",
       "3          LA CABRERA E-2  URBANA        VIAS PUBLICAS   \n",
       "4           LA CHUCUA E-8  URBANA        VIAS PUBLICAS   \n",
       "\n",
       "                 Arma empleada  ... Móvil Victima Edad       Sexo  \\\n",
       "0  ARMA BLANCA / CORTOPUNZANTE  ...         A PIE   18  MASCULINO   \n",
       "1                 CONTUNDENTES  ...         A PIE   61   FEMENINO   \n",
       "2  ARMA BLANCA / CORTOPUNZANTE  ...         A PIE   25  MASCULINO   \n",
       "3          SIN EMPLEO DE ARMAS  ...         A PIE   38  MASCULINO   \n",
       "4          SIN EMPLEO DE ARMAS  ...         A PIE   33  MASCULINO   \n",
       "\n",
       "  Estado civil País de nacimiento    Clase de empleado     Profesión  \\\n",
       "0      SOLTERO           COLOMBIA  EMPLEADO PARTICULAR             -   \n",
       "1      SOLTERO           COLOMBIA  EMPLEADO PARTICULAR  NO REPORTADA   \n",
       "2      SOLTERO           COLOMBIA  EMPLEADO PARTICULAR             -   \n",
       "3      SOLTERO           COLOMBIA  EMPLEADO PARTICULAR             -   \n",
       "4      SOLTERO           COLOMBIA  EMPLEADO PARTICULAR             -   \n",
       "\n",
       "    Escolaridad Código DANE  Cantidad  \n",
       "0      PRIMARIA  11001000.0       1.0  \n",
       "1  NO REPORTADO  11001000.0       1.0  \n",
       "2      SUPERIOR  11001000.0       1.0  \n",
       "3      PRIMARIA  11001000.0       1.0  \n",
       "4    SECUNDARIA  11001000.0       1.0  \n",
       "\n",
       "[5 rows x 21 columns]"
      ]
     },
     "execution_count": 4,
     "metadata": {},
     "output_type": "execute_result"
    }
   ],
   "source": [
    "df.head()"
   ]
  },
  {
   "cell_type": "code",
   "execution_count": 18,
   "metadata": {},
   "outputs": [
    {
     "data": {
      "text/plain": [
       "Index(['Unnamed: 0', 'Fecha', 'Departamento', 'Municipio', 'Día', 'Hora',\n",
       "       'Barrio', 'Zona', 'Clase de sitio', 'Arma empleada', 'Móvil Agresor',\n",
       "       'Móvil Victima', 'Edad', 'Sexo', 'Estado civil', 'País de nacimiento',\n",
       "       'Clase de empleado', 'Profesión', 'Escolaridad', 'Código DANE',\n",
       "       'Cantidad'],\n",
       "      dtype='object')"
      ]
     },
     "execution_count": 18,
     "metadata": {},
     "output_type": "execute_result"
    }
   ],
   "source": [
    "df.columns"
   ]
  },
  {
   "cell_type": "code",
   "execution_count": 9,
   "metadata": {},
   "outputs": [],
   "source": [
    "mycounter=Counter(df['Día'])"
   ]
  },
  {
   "cell_type": "code",
   "execution_count": 12,
   "metadata": {},
   "outputs": [
    {
     "data": {
      "text/plain": [
       "dict_keys(['Domingo', 'Miércoles', 'Martes', 'Sábado', 'Viernes', 'Lunes', 'Jueves'])"
      ]
     },
     "execution_count": 12,
     "metadata": {},
     "output_type": "execute_result"
    }
   ],
   "source": [
    "mycounter.keys()"
   ]
  },
  {
   "cell_type": "code",
   "execution_count": 13,
   "metadata": {
    "collapsed": true
   },
   "outputs": [],
   "source": [
    "semana=['Domingo', 'Lunes', 'Martes','Miércoles', 'Jueves', 'Viernes',  'Sábado']"
   ]
  },
  {
   "cell_type": "code",
   "execution_count": 14,
   "metadata": {
    "collapsed": true
   },
   "outputs": [],
   "source": [
    "robos_sem=[]\n",
    "for dia in semana:\n",
    "    robos_sem.append(mycounter[dia])"
   ]
  },
  {
   "cell_type": "code",
   "execution_count": 15,
   "metadata": {},
   "outputs": [
    {
     "data": {
      "text/plain": [
       "[9024, 13267, 15709, 16586, 16674, 18773, 15122]"
      ]
     },
     "execution_count": 15,
     "metadata": {},
     "output_type": "execute_result"
    }
   ],
   "source": [
    "robos_sem"
   ]
  },
  {
   "cell_type": "code",
   "execution_count": 17,
   "metadata": {},
   "outputs": [
    {
     "data": {
      "image/png": "[encoded data removed]",
      "text/plain": [
       "<matplotlib.figure.Figure at 0x114f84fd0>"
      ]
     },
     "metadata": {},
     "output_type": "display_data"
    }
   ],
   "source": [
    "plt.bar(range(len(semana)), robos_sem, align='center')\n",
    "plt.xticks(range(len(semana)), semana)\n",
    "plt.show()"
   ]
  },
  {
   "cell_type": "code",
   "execution_count": 21,
   "metadata": {
    "collapsed": true
   },
   "outputs": [],
   "source": [
    "mycounter2=Counter(df['Barrio'])"
   ]
  },
  {
   "cell_type": "code",
   "execution_count": 23,
   "metadata": {},
   "outputs": [
    {
     "data": {
      "text/plain": [
       "[('CHAPINERO CENTRAL E-2', 1700),\n",
       " ('BELLA SUIZA E-1', 1110),\n",
       " ('RICAURTE E-14', 909)]"
      ]
     },
     "execution_count": 23,
     "metadata": {},
     "output_type": "execute_result"
    }
   ],
   "source": [
    "mycounter2.most_common(3)"
   ]
  },
  {
   "cell_type": "code",
   "execution_count": 34,
   "metadata": {
    "collapsed": true
   },
   "outputs": [],
   "source": [
    "mycounter3=Counter(df['Estado civil'])"
   ]
  },
  {
   "cell_type": "code",
   "execution_count": 35,
   "metadata": {},
   "outputs": [
    {
     "data": {
      "text/plain": [
       "[('SOLTERO', 59484),\n",
       " ('CASADO', 21229),\n",
       " ('UNION LIBRE', 19290),\n",
       " ('SEPARADO', 2489),\n",
       " ('DIVORCIADO', 1658),\n",
       " ('VIUDO', 854),\n",
       " ('-', 143),\n",
       " ('NO REPORTA', 8)]"
      ]
     },
     "execution_count": 35,
     "metadata": {},
     "output_type": "execute_result"
    }
   ],
   "source": [
    "mycounter3.most_common()"
   ]
  },
  {
   "cell_type": "code",
   "execution_count": null,
   "metadata": {
    "collapsed": true
   },
   "outputs": [],
   "source": []
  }
 ],
 "metadata": {
  "kernelspec": {
   "display_name": "Python 3",
   "language": "python",
   "name": "python3"
  },
  "language_info": {
   "codemirror_mode": {
    "name": "ipython",
    "version": 3
   },
   "file_extension": ".py",
   "mimetype": "text/x-python",
   "name": "python",
   "nbconvert_exporter": "python",
   "pygments_lexer": "ipython3",
   "version": "3.7.3"
  }
 },
 "nbformat": 4,
 "nbformat_minor": 2
}
